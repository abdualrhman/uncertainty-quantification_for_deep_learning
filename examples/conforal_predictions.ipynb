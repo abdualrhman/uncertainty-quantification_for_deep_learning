{
 "cells": [
  {
   "cell_type": "markdown",
   "metadata": {},
   "source": [
    "## Get started\n",
    "1. Install the requirements by running the following in the command line: \n",
    "\n",
    "    ```pip install -r requirements.txt```.\n",
    "\n",
    "2. Clone pretrained models (optional). I you want to fully explore the project, we recommend you clone the models by running the following in the command line:\n",
    "\n",
    "    ```make models```\n",
    "\n"
   ]
  },
  {
   "cell_type": "markdown",
   "metadata": {},
   "source": [
    "## Conformal classifier\n",
    "\n",
    "you can use `ConformalClassifier` for conformalize a pytorch classifier. It returns tauple of ligits and prediction set"
   ]
  },
  {
   "cell_type": "code",
   "execution_count": null,
   "metadata": {},
   "outputs": [],
   "source": [
    "import torch\n",
    "import torchvision\n",
    "from src.models.conformal_classifier import ConformalClassifier\n",
    "from src.utils.utils import get_CIFAR10_img_transformer\n",
    "from src.models.cifar10_conv_model import Cifar10ConvModel\n",
    "from torch.utils.data import DataLoader, random_split\n",
    "\n",
    "dataset = torchvision.datasets.CIFAR10(train=True, root='../data/processed', download=True, transform=get_CIFAR10_img_transformer())\n",
    "test_set = torchvision.datasets.CIFAR10(train=False, root='../data/processed', download=True, transform=get_CIFAR10_img_transformer())\n",
    "calib_size = 1000\n",
    "train_size = len(dataset)-calib_size\n",
    "calib_set, train_set = random_split(dataset, [calib_size, train_size])\n",
    "# load datasets\n",
    "calib_loader = DataLoader(calib_set)\n",
    "test_loader = DataLoader(test_set)\n",
    "# load pretrained model\n",
    "pretrained_model = Cifar10ConvModel()\n",
    "model = Cifar10ConvModel()\n",
    "model.load_state_dict(torch.load(\n",
    "    \"../models/trained_conv_cifar10_model.pt\"))\n",
    "model.eval()\n",
    "# conformalize the model\n",
    "conformal_model = ConformalClassifier(model=pretrained_model, calib_loader=calib_loader, alpha=0.1)\n",
    "# prediction\n",
    "for x, y in test_loader:\n",
    "    prediction_set = conformal_model(x)"
   ]
  },
  {
   "cell_type": "markdown",
   "metadata": {},
   "source": [
    "## Conformal regression\n",
    "\n",
    "you can use `CQR` for conformalize a pytorch quantile regressor. It returns a prediction interval of upper and lower quantiles.\n"
   ]
  },
  {
   "cell_type": "code",
   "execution_count": null,
   "metadata": {},
   "outputs": [],
   "source": [
    "import torch\n",
    "import torchvision\n",
    "from src.models.CQR import CQR\n",
    "from src.data.make_housing_dataset import CaliforniaHousing\n",
    "from src.models.quantile_net import QuantileNet\n",
    "from torch.utils.data import DataLoader, random_split\n",
    "\n",
    "calib_set = CaliforniaHousing(split='calib', in_folder='../data/raw', out_folder='../data/processed')\n",
    "test_set = CaliforniaHousing(split='test', in_folder='../data/raw', out_folder='../data/processed')\n",
    "# load datasets\n",
    "calib_loader = DataLoader(calib_set)\n",
    "test_loader = DataLoader(test_set)\n",
    "# load pretrained model\n",
    "pretrained_model = QuantileNet(input_size=8)\n",
    "pretrained_model.load_state_dict(torch.load(\n",
    "    f\"../models/trained_quantile_net0.1_california_housing.pt\"))\n",
    "pretrained_model.eval()\n",
    "# conformalize the model\n",
    "conformal_regressor = CQR(model=pretrained_model, calib_loader=calib_loader, alpha=0.1)\n",
    "# # prediction\n",
    "for x, y in test_loader:\n",
    "    prediction_interval = conformal_regressor(x)"
   ]
  },
  {
   "cell_type": "markdown",
   "metadata": {},
   "source": [
    "## Active leanring\n",
    "\n",
    "For active learning, the class `Oracle` can be used by passing the model, training set, test set, and sampling parameters. Abailable strategies:\n",
    "- `conformal-score:largest-set`\n",
    "- `least-confidence`\n",
    "- `entropy-sampler`\n",
    "- `random-sampler`\n",
    "\n",
    " See `src/models/oracle` for more details"
   ]
  },
  {
   "cell_type": "code",
   "execution_count": null,
   "metadata": {},
   "outputs": [],
   "source": [
    "import torchvision\n",
    "from src.models.oracle import Oracle\n",
    "from src.models.cifar10_conv_model import Cifar10ConvModel\n",
    "from src.utils.utils import get_CIFAR10_img_transformer\n",
    "# load datasets\n",
    "train_set = torchvision.datasets.CIFAR10(\n",
    "    train=True, root='../data/processed', transform=get_CIFAR10_img_transformer())\n",
    "test_set = torchvision.datasets.CIFAR10(\n",
    "    train=False, root='../data/processed', transform=get_CIFAR10_img_transformer())\n",
    "\n",
    "model = Cifar10ConvModel()\n",
    "# number of initial training samples \n",
    "n_init_training_labels=1000\n",
    "oracle = Oracle(model=model, train_set=train_set, test_set=test_set, strategy='conformal-score:largest-set', sample_size=1000, n_init_training_labels=n_init_training_labels)\n",
    "# start active learning for 1 round\n",
    "oracle.teach(1)\n",
    "print(oracle.round_accuracies)"
   ]
  }
 ],
 "metadata": {
  "interpreter": {
   "hash": "d685bfd7114377445cb2c23cc6bfca7f1f2544957139cb4a27ccab868339e3e1"
  },
  "kernelspec": {
   "display_name": "Python 3.9.7 ('base')",
   "language": "python",
   "name": "python3"
  },
  "language_info": {
   "codemirror_mode": {
    "name": "ipython",
    "version": 3
   },
   "file_extension": ".py",
   "mimetype": "text/x-python",
   "name": "python",
   "nbconvert_exporter": "python",
   "pygments_lexer": "ipython3",
   "version": "3.9.7"
  },
  "orig_nbformat": 4
 },
 "nbformat": 4,
 "nbformat_minor": 2
}
