{
 "cells": [
  {
   "cell_type": "code",
   "execution_count": 4,
   "metadata": {},
   "outputs": [],
   "source": [
    "\n",
    "import torch\n",
    "import torchvision\n",
    "import torchvision.transforms as transforms\n",
    "import numpy as np\n",
    "import matplotlib.pyplot as plt \n",
    "import time\n",
    "from src.utils.cp_utils import * \n",
    "from src.models.conformal_model import ConformalModel, ConformalModelLogits\n",
    "import torch.backends.cudnn as cudnn\n",
    "import random\n",
    "from src.data.make_cifar10_dataset import CIFAR10, get_img_transformer\n",
    "from src.models.cifar10_conv_model import Cifar10ConvModel\n",
    "\n"
   ]
  },
  {
   "cell_type": "code",
   "execution_count": 11,
   "metadata": {},
   "outputs": [
    {
     "name": "stdout",
     "output_type": "stream",
     "text": [
      "Files already downloaded and verified\n",
      "Files already downloaded and verified\n",
      "Files already downloaded and verified\n",
      "(40000, 32, 32, 3)\n",
      "(10000, 32, 32, 3)\n",
      "(10000, 32, 32, 3)\n"
     ]
    }
   ],
   "source": [
    "device = \"cuda\" if torch.cuda.is_available() else \"cpu\"\n",
    "train_dataset = CIFAR10(split=\"train\", root='../data/processed', download=True,\n",
    "                      transform=get_img_transformer())\n",
    "test_dataset = CIFAR10(split=\"test\", root='../data/processed', download=True,\n",
    "                      transform=get_img_transformer())\n",
    "test_dataloader = torch.utils.data.DataLoader(\n",
    "        test_dataset, batch_size=32)\n",
    "calib_dataset = CIFAR10(split=\"calib\", root='../data/processed', download=True,\n",
    "                      transform=get_img_transformer())\n",
    "calib_dataloader = torch.utils.data.DataLoader(\n",
    "        calib_dataset, batch_size=32)\n",
    "print(train_dataset.data.shape)\n",
    "print(test_dataset.data.shape)\n",
    "print(calib_dataset.data.shape)\n",
    "n_classes = len(set(test_dataset.targets))\n",
    "classes = {index: name for name, index in test_dataset.class_to_idx.items()}\n"
   ]
  },
  {
   "cell_type": "code",
   "execution_count": null,
   "metadata": {},
   "outputs": [],
   "source": [
    "model = Cifar10ConvModel().cpu()\n",
    "model.load_state_dict(torch.load(\"../models/trained_model.pt\"))"
   ]
  },
  {
   "cell_type": "code",
   "execution_count": 13,
   "metadata": {},
   "outputs": [
    {
     "name": "stdout",
     "output_type": "stream",
     "text": [
      "Begin Platt scaling.\n",
      "Computing logits for model (only happens once).\n"
     ]
    },
    {
     "name": "stderr",
     "output_type": "stream",
     "text": [
      "100%|██████████| 313/313 [00:27<00:00, 11.46it/s]\n"
     ]
    },
    {
     "name": "stdout",
     "output_type": "stream",
     "text": [
      "Optimal T=1.252213954925537\n",
      "<torch.utils.data.dataset.TensorDataset object at 0x7fdd9a520130>\n",
      "[0 0 0 ... 0 0 0]\n",
      "(tensor([12.5500, -2.6525,  0.2643, -1.6349, -1.1045, -5.4705, -2.4388, -1.7302,\n",
      "         2.9399, -0.7230]), tensor(0))\n",
      "paramtune_logits[0]\n",
      "(tensor([-2.0604,  2.0145, -2.1122, -0.3227, -3.2370,  2.2179, -2.5628, -1.2019,\n",
      "         0.1952,  7.0692]), tensor(9))\n"
     ]
    }
   ],
   "source": [
    "model = ConformalModel(model=premodel,calib_loader=calib_dataloader, alpha=0.05)"
   ]
  },
  {
   "cell_type": "code",
   "execution_count": 14,
   "metadata": {},
   "outputs": [
    {
     "name": "stdout",
     "output_type": "stream",
     "text": [
      "N: 10000 | Time: 0.039 (0.075) | Cvg@1: 0.812 (0.877) | Cvg@5: 0.938 (0.991) | Cvg@RAPS: 0.875 (0.933) | Size@RAPS: 1.250 (1.293)\n"
     ]
    },
    {
     "data": {
      "text/plain": [
       "(0.877, 0.9912, 0.9331, 1.2928)"
      ]
     },
     "execution_count": 14,
     "metadata": {},
     "output_type": "execute_result"
    }
   ],
   "source": [
    "validate(test_dataloader, model, print_bool=True)"
   ]
  },
  {
   "cell_type": "markdown",
   "metadata": {},
   "source": [
    "## Load pretrained"
   ]
  },
  {
   "cell_type": "code",
   "execution_count": 20,
   "metadata": {},
   "outputs": [
    {
     "name": "stderr",
     "output_type": "stream",
     "text": [
      "Using cache found in /Users/abdulrahman/.cache/torch/hub/chenyaofo_pytorch-cifar-models_master\n"
     ]
    }
   ],
   "source": [
    "premodel = torch.hub.load(\"chenyaofo/pytorch-cifar-models\", \"cifar10_resnet20\",  pretrained=True)"
   ]
  },
  {
   "cell_type": "code",
   "execution_count": 18,
   "metadata": {},
   "outputs": [
    {
     "data": {
      "application/vnd.jupyter.widget-view+json": {
       "model_id": "7fd8ec637b3d43a499a4b911cc120d7a",
       "version_major": 2,
       "version_minor": 0
      },
      "text/plain": [
       "  0%|          | 0.00/1.09M [00:00<?, ?B/s]"
      ]
     },
     "metadata": {},
     "output_type": "display_data"
    }
   ],
   "source": [
    "model = torch.hub.download_url_to_file('https://github.com/chenyaofo/pytorch-cifar-models/releases/download/resnet/cifar10_resnet20-4118986f.pt', '../models/cifar10_resnet20.pt')"
   ]
  },
  {
   "cell_type": "code",
   "execution_count": 19,
   "metadata": {},
   "outputs": [
    {
     "ename": "AttributeError",
     "evalue": "'NoneType' object has no attribute 'eval'",
     "output_type": "error",
     "traceback": [
      "\u001b[0;31m---------------------------------------------------------------------------\u001b[0m",
      "\u001b[0;31mAttributeError\u001b[0m                            Traceback (most recent call last)",
      "\u001b[0;32m/var/folders/dw/gf2x93p50fdd3796cx4grnqw0000gn/T/ipykernel_18458/2029845769.py\u001b[0m in \u001b[0;36m<module>\u001b[0;34m\u001b[0m\n\u001b[0;32m----> 1\u001b[0;31m \u001b[0mmodel\u001b[0m\u001b[0;34m.\u001b[0m\u001b[0meval\u001b[0m\u001b[0;34m(\u001b[0m\u001b[0;34m)\u001b[0m\u001b[0;34m\u001b[0m\u001b[0;34m\u001b[0m\u001b[0m\n\u001b[0m",
      "\u001b[0;31mAttributeError\u001b[0m: 'NoneType' object has no attribute 'eval'"
     ]
    }
   ],
   "source": [
    "model.eval()"
   ]
  },
  {
   "cell_type": "code",
   "execution_count": null,
   "metadata": {},
   "outputs": [],
   "source": []
  }
 ],
 "metadata": {
  "interpreter": {
   "hash": "d685bfd7114377445cb2c23cc6bfca7f1f2544957139cb4a27ccab868339e3e1"
  },
  "kernelspec": {
   "display_name": "Python 3.9.7 ('base')",
   "language": "python",
   "name": "python3"
  },
  "language_info": {
   "codemirror_mode": {
    "name": "ipython",
    "version": 3
   },
   "file_extension": ".py",
   "mimetype": "text/x-python",
   "name": "python",
   "nbconvert_exporter": "python",
   "pygments_lexer": "ipython3",
   "version": "3.9.7"
  },
  "orig_nbformat": 4
 },
 "nbformat": 4,
 "nbformat_minor": 2
}
