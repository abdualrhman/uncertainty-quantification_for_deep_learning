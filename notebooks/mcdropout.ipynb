{
 "cells": [
  {
   "cell_type": "code",
   "execution_count": 1,
   "metadata": {},
   "outputs": [
    {
     "name": "stderr",
     "output_type": "stream",
     "text": [
      "/Users/abdulrahman/opt/anaconda3/lib/python3.9/site-packages/torchvision/io/image.py:13: UserWarning: Failed to load image Python extension: 'dlopen(/Users/abdulrahman/opt/anaconda3/lib/python3.9/site-packages/torchvision/image.so, 6): Symbol not found: __ZN3c106detail19maybe_wrap_dim_slowIxEET_S2_S2_b\n",
      "  Referenced from: /Users/abdulrahman/opt/anaconda3/lib/python3.9/site-packages/torchvision/image.so\n",
      "  Expected in: /Users/abdulrahman/opt/anaconda3/lib/python3.9/site-packages/torch/lib/libc10.dylib\n",
      " in /Users/abdulrahman/opt/anaconda3/lib/python3.9/site-packages/torchvision/image.so'If you don't plan on using image functionality from `torchvision.io`, you can ignore this warning. Otherwise, there might be something wrong with your environment. Did you have `libjpeg` or `libpng` installed before building `torchvision` from source?\n",
      "  warn(\n"
     ]
    }
   ],
   "source": [
    "from src.utils.utils import get_aug_img_transformer, validate_monte_carlo_prediction\n",
    "import torch \n",
    "from sklearn.metrics import f1_score\n",
    "from src.utils.utils import AverageMeter, coverage_size, get_monte_carlo_prediction_sets, pre_transform_dataset\n",
    "import torchvision\n",
    "from src.models.cifar10_conv_model import Cifar10ConvModel\n",
    "import random\n"
   ]
  },
  {
   "cell_type": "code",
   "execution_count": 2,
   "metadata": {},
   "outputs": [],
   "source": [
    "test_set = torchvision.datasets.CIFAR10(train=False, root='../data/processed', transform=get_aug_img_transformer())\n",
    "dataset = pre_transform_dataset(test_set)\n",
    "test_loader =torch.utils.data.DataLoader(test_set, batch_size=len(test_set), shuffle=False)\n",
    "indices = random.sample(range(len(dataset)), 9000)\n",
    "val_dataset = torch.utils.data.Subset(indices=indices, dataset=dataset)\n",
    "val_loader =torch.utils.data.DataLoader(val_dataset, batch_size=128, shuffle=False)"
   ]
  },
  {
   "cell_type": "code",
   "execution_count": 3,
   "metadata": {},
   "outputs": [],
   "source": [
    "model = Cifar10ConvModel()\n",
    "model.load_state_dict(torch.load(\"../models/trained_conv_cifar10_model.pt\"))\n",
    "model.eval()\n",
    "model = torch.nn.DataParallel(model).cpu()"
   ]
  },
  {
   "cell_type": "code",
   "execution_count": 7,
   "metadata": {},
   "outputs": [],
   "source": [
    "res = get_monte_carlo_prediction_sets(val_loader=val_loader, model=model, alpha=0.1, n_samples=len(indices), n_classes=10, forward_passes=15, randomized=True)"
   ]
  },
  {
   "cell_type": "code",
   "execution_count": null,
   "metadata": {},
   "outputs": [
    {
     "data": {
      "text/plain": [
       "(0.791681338028169, 2.609154929577465, 0.5466313819846647)"
      ]
     },
     "execution_count": 6,
     "metadata": {},
     "output_type": "execute_result"
    }
   ],
   "source": [
    "out = validate_monte_carlo_prediction(val_loader=val_loader, predictions_sets=res[1])\n",
    "out"
   ]
  },
  {
   "cell_type": "code",
   "execution_count": 123,
   "metadata": {},
   "outputs": [
    {
     "data": {
      "text/plain": [
       "10000"
      ]
     },
     "execution_count": 123,
     "metadata": {},
     "output_type": "execute_result"
    }
   ],
   "source": [
    "len(test_set)"
   ]
  },
  {
   "cell_type": "code",
   "execution_count": null,
   "metadata": {},
   "outputs": [],
   "source": []
  }
 ],
 "metadata": {
  "interpreter": {
   "hash": "d685bfd7114377445cb2c23cc6bfca7f1f2544957139cb4a27ccab868339e3e1"
  },
  "kernelspec": {
   "display_name": "Python 3.9.7 ('base')",
   "language": "python",
   "name": "python3"
  },
  "language_info": {
   "codemirror_mode": {
    "name": "ipython",
    "version": 3
   },
   "file_extension": ".py",
   "mimetype": "text/x-python",
   "name": "python",
   "nbconvert_exporter": "python",
   "pygments_lexer": "ipython3",
   "version": "3.9.7"
  },
  "orig_nbformat": 4
 },
 "nbformat": 4,
 "nbformat_minor": 2
}
