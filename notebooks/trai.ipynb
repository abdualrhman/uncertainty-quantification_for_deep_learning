{
 "cells": [
  {
   "cell_type": "code",
   "execution_count": 1,
   "metadata": {},
   "outputs": [],
   "source": [
    "from sklearn.ensemble import GradientBoostingRegressor\n",
    "from sklearn.model_selection import RandomizedSearchCV\n",
    "import numpy as np\n",
    "import torch \n",
    "from src.data.make_housing_dataset import CaliforniaHousing\n",
    "from sklearn.metrics import r2_score\n",
    "from scipy.stats import randint, uniform\n",
    "import pickle\n",
    "\n",
    "from src.models.GB_quantile_regressor import GB_quantile_regressor, Conformalized_quantile_regression_logits\n",
    "from mapie.quantile_regression import MapieQuantileRegressor\n",
    "from src.models.CQR import CQR_logits\n",
    "from src.models.regFNN import RegFNN\n",
    "from typing import Iterable, List, Optional, Tuple, Union, cast\n",
    "from numpy.typing import  NDArray\n",
    "\n"
   ]
  },
  {
   "cell_type": "code",
   "execution_count": 2,
   "metadata": {},
   "outputs": [
    {
     "name": "stdout",
     "output_type": "stream",
     "text": [
      "Loaded from pre-processed files\n",
      "Loaded from pre-processed files\n",
      "Loaded from pre-processed files\n"
     ]
    }
   ],
   "source": [
    "train_set = CaliforniaHousing(\n",
    "    split=\"train\", in_folder='../data/raw', out_folder='../data/processed')\n",
    "test_set = CaliforniaHousing(\n",
    "    split=\"test\", in_folder='../data/raw', out_folder='../data/processed')\n",
    "train_loader = torch.utils.data.DataLoader(train_set, batch_size=32, shuffle=True)\n",
    "calib_set = CaliforniaHousing(\n",
    "    split=\"calib\", in_folder='../data/raw', out_folder='../data/processed')\n",
    "calib_loader = torch.utils.data.DataLoader(calib_set, batch_size=32, shuffle=True)\n",
    "test_loader = torch.utils.data.DataLoader(test_set, batch_size=32)\n",
    "\n",
    "X_train = train_set.data.numpy()\n",
    "y_train = train_set.targets.numpy()\n",
    "\n",
    "X_test = test_set.data.numpy()\n",
    "y_test =test_set.targets.numpy()"
   ]
  },
  {
   "cell_type": "code",
   "execution_count": 2,
   "metadata": {},
   "outputs": [
    {
     "ename": "NameError",
     "evalue": "name 'X_train' is not defined",
     "output_type": "error",
     "traceback": [
      "\u001b[0;31m---------------------------------------------------------------------------\u001b[0m",
      "\u001b[0;31mNameError\u001b[0m                                 Traceback (most recent call last)",
      "\u001b[0;32m/var/folders/dw/gf2x93p50fdd3796cx4grnqw0000gn/T/ipykernel_87284/3763991991.py\u001b[0m in \u001b[0;36m<module>\u001b[0;34m\u001b[0m\n\u001b[1;32m     11\u001b[0m     \u001b[0mqr\u001b[0m \u001b[0;34m=\u001b[0m \u001b[0mGradientBoostingRegressor\u001b[0m\u001b[0;34m(\u001b[0m\u001b[0malpha\u001b[0m\u001b[0;34m=\u001b[0m\u001b[0mquantile\u001b[0m\u001b[0;34m,\u001b[0m \u001b[0mloss\u001b[0m\u001b[0;34m=\u001b[0m\u001b[0;34m'quantile'\u001b[0m\u001b[0;34m)\u001b[0m\u001b[0;34m\u001b[0m\u001b[0;34m\u001b[0m\u001b[0m\n\u001b[1;32m     12\u001b[0m     \u001b[0mmodel\u001b[0m \u001b[0;34m=\u001b[0m \u001b[0mRandomizedSearchCV\u001b[0m\u001b[0;34m(\u001b[0m\u001b[0mqr\u001b[0m\u001b[0;34m,\u001b[0m \u001b[0mparams_distributions\u001b[0m\u001b[0;34m)\u001b[0m\u001b[0;34m\u001b[0m\u001b[0;34m\u001b[0m\u001b[0m\n\u001b[0;32m---> 13\u001b[0;31m     \u001b[0my_pred\u001b[0m \u001b[0;34m=\u001b[0m \u001b[0mmodel\u001b[0m\u001b[0;34m.\u001b[0m\u001b[0mfit\u001b[0m\u001b[0;34m(\u001b[0m\u001b[0mX_train\u001b[0m\u001b[0;34m,\u001b[0m \u001b[0my_train\u001b[0m\u001b[0;34m)\u001b[0m\u001b[0;34m.\u001b[0m\u001b[0mpredict\u001b[0m\u001b[0;34m(\u001b[0m\u001b[0mX_test\u001b[0m\u001b[0;34m)\u001b[0m\u001b[0;34m\u001b[0m\u001b[0;34m\u001b[0m\u001b[0m\n\u001b[0m\u001b[1;32m     14\u001b[0m     \u001b[0mpredictions\u001b[0m\u001b[0;34m[\u001b[0m\u001b[0mquantile\u001b[0m\u001b[0;34m]\u001b[0m \u001b[0;34m=\u001b[0m \u001b[0my_pred\u001b[0m\u001b[0;34m\u001b[0m\u001b[0;34m\u001b[0m\u001b[0m\n",
      "\u001b[0;31mNameError\u001b[0m: name 'X_train' is not defined"
     ]
    }
   ],
   "source": [
    "quantiles = [0.05, 0.5, 0.95]\n",
    "predictions = {}\n",
    "\n",
    "for quantile in quantiles:\n",
    "    params_distributions = dict(\n",
    "        max_leaf_nodes=randint(low=10, high=50),\n",
    "        max_depth=randint(low=3, high=20),\n",
    "        n_estimators=randint(low=50, high=300),\n",
    "        learning_rate=uniform()\n",
    "    )\n",
    "    qr = GradientBoostingRegressor(alpha=quantile, loss='quantile')\n",
    "    model = RandomizedSearchCV(qr, params_distributions)\n",
    "    y_pred = model.fit(X_train, y_train).predict(X_test)\n",
    "    predictions[quantile] = y_pred"
   ]
  },
  {
   "cell_type": "code",
   "execution_count": 4,
   "metadata": {},
   "outputs": [],
   "source": [
    "with open('../models/trained_gbreg0.05.pkl', 'rb') as p:\n",
    "    model_005 = pickle.load(p)\n",
    "with open('../models/trained_gbreg0.95.pkl', 'rb') as p:\n",
    "    model_095 = pickle.load(p)\n"
   ]
  },
  {
   "cell_type": "code",
   "execution_count": 22,
   "metadata": {},
   "outputs": [],
   "source": [
    "model = GB_quantile_regressor(model_005, model_095)"
   ]
  },
  {
   "cell_type": "code",
   "execution_count": 16,
   "metadata": {},
   "outputs": [],
   "source": [
    "q_lo, q_hi = model.predict(X_test)"
   ]
  },
  {
   "cell_type": "code",
   "execution_count": 72,
   "metadata": {},
   "outputs": [
    {
     "data": {
      "text/plain": [
       "array([1.47830702, 1.72023197, 1.23981333, ..., 1.19121525, 1.17053788,\n",
       "       1.21129521])"
      ]
     },
     "execution_count": 72,
     "metadata": {},
     "output_type": "execute_result"
    }
   ],
   "source": [
    "alpha = 0.1\n",
    "X_cal = test_loader.dataset.data.detach().cpu().numpy()\n",
    "y_cal = test_loader.dataset.targets.detach().cpu().numpy()\n",
    "model.predict(X_cal)[1]\n"
   ]
  },
  {
   "cell_type": "code",
   "execution_count": 83,
   "metadata": {},
   "outputs": [],
   "source": [
    "class GB_conformal_quantile_regressor:\n",
    "    def __init__(self, model, calib_loader, alpha):\n",
    "        X_cal = calib_loader.dataset.data.detach().cpu().numpy()\n",
    "        y_cal = calib_loader.dataset.targets.detach().cpu().numpy()\n",
    "        print(model.model_low)\n",
    "        self.model_low = MapieQuantileRegressor(\n",
    "            [model.model_low], alpha=alpha/2, cv='prefit').fit(X_cal, y_cal)\n",
    "        self.model_high = MapieQuantileRegressor(\n",
    "            [model.model_high], alpha=1-(alpha/2), cv='prefit').fit(X_cal, y_cal)\n",
    "    def predict(self, inputs):\n",
    "        return [self.model_low.predict(inputs), self.model_high.predict(inputs)]\n"
   ]
  },
  {
   "cell_type": "code",
   "execution_count": 3,
   "metadata": {},
   "outputs": [],
   "source": [
    "low = GradientBoostingRegressor(loss='quantile',alpha=0.05).fit(X_train, y_train)\n",
    "median = GradientBoostingRegressor(loss='quantile',alpha=0.5).fit(X_train, y_train)\n",
    "up = GradientBoostingRegressor(loss='quantile',alpha=0.1).fit(X_train, y_train)"
   ]
  },
  {
   "cell_type": "code",
   "execution_count": 8,
   "metadata": {},
   "outputs": [],
   "source": [
    "\n",
    "alpha = 0.1\n",
    "X_cal = calib_loader.dataset.data.detach().cpu().numpy()\n",
    "y_cal = calib_loader.dataset.targets.detach().cpu().numpy()\n",
    "cqr = MapieQuantileRegressor([low, up, median], alpha=alpha, cv=\"prefit\")"
   ]
  },
  {
   "cell_type": "code",
   "execution_count": 9,
   "metadata": {},
   "outputs": [
    {
     "name": "stderr",
     "output_type": "stream",
     "text": [
      "/Users/abdulrahman/opt/anaconda3/lib/python3.9/site-packages/mapie/quantile_regression.py:196: UserWarning: WARNING: The alpha that is set needs to be the same as the alpha of your prefitted model in the following order [alpha/2, 1 - alpha/2, 0.5]\n",
      "  warnings.warn(\n"
     ]
    },
    {
     "data": {
      "text/html": [
       "<style>#sk-container-id-1 {color: black;background-color: white;}#sk-container-id-1 pre{padding: 0;}#sk-container-id-1 div.sk-toggleable {background-color: white;}#sk-container-id-1 label.sk-toggleable__label {cursor: pointer;display: block;width: 100%;margin-bottom: 0;padding: 0.3em;box-sizing: border-box;text-align: center;}#sk-container-id-1 label.sk-toggleable__label-arrow:before {content: \"▸\";float: left;margin-right: 0.25em;color: #696969;}#sk-container-id-1 label.sk-toggleable__label-arrow:hover:before {color: black;}#sk-container-id-1 div.sk-estimator:hover label.sk-toggleable__label-arrow:before {color: black;}#sk-container-id-1 div.sk-toggleable__content {max-height: 0;max-width: 0;overflow: hidden;text-align: left;background-color: #f0f8ff;}#sk-container-id-1 div.sk-toggleable__content pre {margin: 0.2em;color: black;border-radius: 0.25em;background-color: #f0f8ff;}#sk-container-id-1 input.sk-toggleable__control:checked~div.sk-toggleable__content {max-height: 200px;max-width: 100%;overflow: auto;}#sk-container-id-1 input.sk-toggleable__control:checked~label.sk-toggleable__label-arrow:before {content: \"▾\";}#sk-container-id-1 div.sk-estimator input.sk-toggleable__control:checked~label.sk-toggleable__label {background-color: #d4ebff;}#sk-container-id-1 div.sk-label input.sk-toggleable__control:checked~label.sk-toggleable__label {background-color: #d4ebff;}#sk-container-id-1 input.sk-hidden--visually {border: 0;clip: rect(1px 1px 1px 1px);clip: rect(1px, 1px, 1px, 1px);height: 1px;margin: -1px;overflow: hidden;padding: 0;position: absolute;width: 1px;}#sk-container-id-1 div.sk-estimator {font-family: monospace;background-color: #f0f8ff;border: 1px dotted black;border-radius: 0.25em;box-sizing: border-box;margin-bottom: 0.5em;}#sk-container-id-1 div.sk-estimator:hover {background-color: #d4ebff;}#sk-container-id-1 div.sk-parallel-item::after {content: \"\";width: 100%;border-bottom: 1px solid gray;flex-grow: 1;}#sk-container-id-1 div.sk-label:hover label.sk-toggleable__label {background-color: #d4ebff;}#sk-container-id-1 div.sk-serial::before {content: \"\";position: absolute;border-left: 1px solid gray;box-sizing: border-box;top: 0;bottom: 0;left: 50%;z-index: 0;}#sk-container-id-1 div.sk-serial {display: flex;flex-direction: column;align-items: center;background-color: white;padding-right: 0.2em;padding-left: 0.2em;position: relative;}#sk-container-id-1 div.sk-item {position: relative;z-index: 1;}#sk-container-id-1 div.sk-parallel {display: flex;align-items: stretch;justify-content: center;background-color: white;position: relative;}#sk-container-id-1 div.sk-item::before, #sk-container-id-1 div.sk-parallel-item::before {content: \"\";position: absolute;border-left: 1px solid gray;box-sizing: border-box;top: 0;bottom: 0;left: 50%;z-index: -1;}#sk-container-id-1 div.sk-parallel-item {display: flex;flex-direction: column;z-index: 1;position: relative;background-color: white;}#sk-container-id-1 div.sk-parallel-item:first-child::after {align-self: flex-end;width: 50%;}#sk-container-id-1 div.sk-parallel-item:last-child::after {align-self: flex-start;width: 50%;}#sk-container-id-1 div.sk-parallel-item:only-child::after {width: 0;}#sk-container-id-1 div.sk-dashed-wrapped {border: 1px dashed gray;margin: 0 0.4em 0.5em 0.4em;box-sizing: border-box;padding-bottom: 0.4em;background-color: white;}#sk-container-id-1 div.sk-label label {font-family: monospace;font-weight: bold;display: inline-block;line-height: 1.2em;}#sk-container-id-1 div.sk-label-container {text-align: center;}#sk-container-id-1 div.sk-container {/* jupyter's `normalize.less` sets `[hidden] { display: none; }` but bootstrap.min.css set `[hidden] { display: none !important; }` so we also need the `!important` here to be able to override the default hidden behavior on the sphinx rendered scikit-learn.org. See: https://github.com/scikit-learn/scikit-learn/issues/21755 */display: inline-block !important;position: relative;}#sk-container-id-1 div.sk-text-repr-fallback {display: none;}</style><div id=\"sk-container-id-1\" class=\"sk-top-container\"><div class=\"sk-text-repr-fallback\"><pre>MapieQuantileRegressor(cv=&#x27;prefit&#x27;,\n",
       "                       estimator=[GradientBoostingRegressor(alpha=0.05,\n",
       "                                                            loss=&#x27;quantile&#x27;),\n",
       "                                  GradientBoostingRegressor(alpha=0.1,\n",
       "                                                            loss=&#x27;quantile&#x27;),\n",
       "                                  GradientBoostingRegressor(alpha=0.5,\n",
       "                                                            loss=&#x27;quantile&#x27;)])</pre><b>In a Jupyter environment, please rerun this cell to show the HTML representation or trust the notebook. <br />On GitHub, the HTML representation is unable to render, please try loading this page with nbviewer.org.</b></div><div class=\"sk-container\" hidden><div class=\"sk-item\"><div class=\"sk-estimator sk-toggleable\"><input class=\"sk-toggleable__control sk-hidden--visually\" id=\"sk-estimator-id-1\" type=\"checkbox\" checked><label for=\"sk-estimator-id-1\" class=\"sk-toggleable__label sk-toggleable__label-arrow\">MapieQuantileRegressor</label><div class=\"sk-toggleable__content\"><pre>MapieQuantileRegressor(cv=&#x27;prefit&#x27;,\n",
       "                       estimator=[GradientBoostingRegressor(alpha=0.05,\n",
       "                                                            loss=&#x27;quantile&#x27;),\n",
       "                                  GradientBoostingRegressor(alpha=0.1,\n",
       "                                                            loss=&#x27;quantile&#x27;),\n",
       "                                  GradientBoostingRegressor(alpha=0.5,\n",
       "                                                            loss=&#x27;quantile&#x27;)])</pre></div></div></div></div></div>"
      ],
      "text/plain": [
       "MapieQuantileRegressor(cv='prefit',\n",
       "                       estimator=[GradientBoostingRegressor(alpha=0.05,\n",
       "                                                            loss='quantile'),\n",
       "                                  GradientBoostingRegressor(alpha=0.1,\n",
       "                                                            loss='quantile'),\n",
       "                                  GradientBoostingRegressor(alpha=0.5,\n",
       "                                                            loss='quantile')])"
      ]
     },
     "execution_count": 9,
     "metadata": {},
     "output_type": "execute_result"
    }
   ],
   "source": [
    "cqr.fit(X_cal, y_cal)"
   ]
  },
  {
   "cell_type": "code",
   "execution_count": 79,
   "metadata": {},
   "outputs": [
    {
     "name": "stderr",
     "output_type": "stream",
     "text": [
      "/Users/abdulrahman/opt/anaconda3/lib/python3.9/site-packages/mapie/utils.py:467: UserWarning: WARNING: The initial prediction values from the quantile method\n",
      "present issues as the upper quantile values might be higher than the\n",
      "lower quantile values.\n",
      "  warnings.warn(\n",
      "/Users/abdulrahman/opt/anaconda3/lib/python3.9/site-packages/mapie/utils.py:480: UserWarning: WARNING: Following the additional value added to have conformal predictions, the upper and lower bound present issues as one might be higher or lower than the other.\n",
      "  warnings.warn(\n"
     ]
    }
   ],
   "source": [
    "pred, pis = cqr.predict(X_test)"
   ]
  },
  {
   "cell_type": "code",
   "execution_count": 80,
   "metadata": {},
   "outputs": [
    {
     "data": {
      "text/plain": [
       "array([[ 0.14959892],\n",
       "       [ 0.41463179],\n",
       "       [ 0.19370354],\n",
       "       ...,\n",
       "       [-0.11127592],\n",
       "       [-0.0717903 ],\n",
       "       [-0.02070856]])"
      ]
     },
     "execution_count": 80,
     "metadata": {},
     "output_type": "execute_result"
    }
   ],
   "source": [
    "pis[:,0, :]"
   ]
  },
  {
   "cell_type": "code",
   "execution_count": 45,
   "metadata": {},
   "outputs": [
    {
     "data": {
      "text/plain": [
       "0.95"
      ]
     },
     "execution_count": 45,
     "metadata": {},
     "output_type": "execute_result"
    }
   ],
   "source": [
    "1 - alpha/2"
   ]
  },
  {
   "cell_type": "code",
   "execution_count": 67,
   "metadata": {},
   "outputs": [
    {
     "data": {
      "text/plain": [
       "array([0.93315248, 1.30475213, 0.76046248, ..., 0.71442029, 0.78294266,\n",
       "       0.88589693])"
      ]
     },
     "execution_count": 67,
     "metadata": {},
     "output_type": "execute_result"
    }
   ],
   "source": [
    "cqr.estimators_[2].predict(X_test)"
   ]
  },
  {
   "cell_type": "code",
   "execution_count": 86,
   "metadata": {},
   "outputs": [
    {
     "data": {
      "text/plain": [
       "0.271760330650876"
      ]
     },
     "execution_count": 86,
     "metadata": {},
     "output_type": "execute_result"
    }
   ],
   "source": [
    "r2_score(y_true=y_test, y_pred=cqr.estimators_[0].predict(X_test))"
   ]
  },
  {
   "cell_type": "code",
   "execution_count": 99,
   "metadata": {},
   "outputs": [
    {
     "ename": "ValueError",
     "evalue": "The base model does not seem to be accepted by MapieQuantileRegressor. \nGive a base model among: \n``quantile_estimator_params.keys()``Or, add your base model to ``quantile_estimator_params``.",
     "output_type": "error",
     "traceback": [
      "\u001b[0;31m---------------------------------------------------------------------------\u001b[0m",
      "\u001b[0;31mValueError\u001b[0m                                Traceback (most recent call last)",
      "\u001b[0;32m/var/folders/dw/gf2x93p50fdd3796cx4grnqw0000gn/T/ipykernel_77706/1270692526.py\u001b[0m in \u001b[0;36m<module>\u001b[0;34m\u001b[0m\n\u001b[0;32m----> 1\u001b[0;31m \u001b[0mMapieQuantileRegressor\u001b[0m\u001b[0;34m(\u001b[0m\u001b[0mestimator\u001b[0m\u001b[0;34m=\u001b[0m\u001b[0mmodel_005\u001b[0m\u001b[0;34m,\u001b[0m \u001b[0malpha\u001b[0m\u001b[0;34m=\u001b[0m\u001b[0;36m0.1\u001b[0m\u001b[0;34m)\u001b[0m\u001b[0;34m.\u001b[0m\u001b[0mfit\u001b[0m\u001b[0;34m(\u001b[0m\u001b[0mX_cal\u001b[0m\u001b[0;34m,\u001b[0m \u001b[0my_cal\u001b[0m\u001b[0;34m)\u001b[0m\u001b[0;34m\u001b[0m\u001b[0;34m\u001b[0m\u001b[0m\n\u001b[0m",
      "\u001b[0;32m~/opt/anaconda3/lib/python3.9/site-packages/mapie/quantile_regression.py\u001b[0m in \u001b[0;36mfit\u001b[0;34m(self, X, y, sample_weight, X_calib, y_calib, calib_size, random_state, shuffle, stratify)\u001b[0m\n\u001b[1;32m    547\u001b[0m             \u001b[0;31m# Checks\u001b[0m\u001b[0;34m\u001b[0m\u001b[0;34m\u001b[0m\u001b[0m\n\u001b[1;32m    548\u001b[0m             \u001b[0mself\u001b[0m\u001b[0;34m.\u001b[0m\u001b[0m_check_parameters\u001b[0m\u001b[0;34m(\u001b[0m\u001b[0;34m)\u001b[0m\u001b[0;34m\u001b[0m\u001b[0;34m\u001b[0m\u001b[0m\n\u001b[0;32m--> 549\u001b[0;31m             \u001b[0mchecked_estimator\u001b[0m \u001b[0;34m=\u001b[0m \u001b[0mself\u001b[0m\u001b[0;34m.\u001b[0m\u001b[0m_check_estimator\u001b[0m\u001b[0;34m(\u001b[0m\u001b[0mself\u001b[0m\u001b[0;34m.\u001b[0m\u001b[0mestimator\u001b[0m\u001b[0;34m)\u001b[0m\u001b[0;34m\u001b[0m\u001b[0;34m\u001b[0m\u001b[0m\n\u001b[0m\u001b[1;32m    550\u001b[0m             \u001b[0malpha\u001b[0m \u001b[0;34m=\u001b[0m \u001b[0mself\u001b[0m\u001b[0;34m.\u001b[0m\u001b[0m_check_alpha\u001b[0m\u001b[0;34m(\u001b[0m\u001b[0mself\u001b[0m\u001b[0;34m.\u001b[0m\u001b[0malpha\u001b[0m\u001b[0;34m)\u001b[0m\u001b[0;34m\u001b[0m\u001b[0;34m\u001b[0m\u001b[0m\n\u001b[1;32m    551\u001b[0m             \u001b[0mX\u001b[0m\u001b[0;34m,\u001b[0m \u001b[0my\u001b[0m \u001b[0;34m=\u001b[0m \u001b[0mindexable\u001b[0m\u001b[0;34m(\u001b[0m\u001b[0mX\u001b[0m\u001b[0;34m,\u001b[0m \u001b[0my\u001b[0m\u001b[0;34m)\u001b[0m\u001b[0;34m\u001b[0m\u001b[0;34m\u001b[0m\u001b[0m\n",
      "\u001b[0;32m~/opt/anaconda3/lib/python3.9/site-packages/mapie/quantile_regression.py\u001b[0m in \u001b[0;36m_check_estimator\u001b[0;34m(self, estimator)\u001b[0m\n\u001b[1;32m    296\u001b[0m                         )\n\u001b[1;32m    297\u001b[0m                 \u001b[0;32melse\u001b[0m\u001b[0;34m:\u001b[0m\u001b[0;34m\u001b[0m\u001b[0;34m\u001b[0m\u001b[0m\n\u001b[0;32m--> 298\u001b[0;31m                     raise ValueError(\n\u001b[0m\u001b[1;32m    299\u001b[0m                         \u001b[0;34m\"The base model does not seem to be accepted\"\u001b[0m\u001b[0;34m\u001b[0m\u001b[0;34m\u001b[0m\u001b[0m\n\u001b[1;32m    300\u001b[0m                         \u001b[0;34m+\u001b[0m \u001b[0;34m\" by MapieQuantileRegressor. \\n\"\u001b[0m\u001b[0;34m\u001b[0m\u001b[0;34m\u001b[0m\u001b[0m\n",
      "\u001b[0;31mValueError\u001b[0m: The base model does not seem to be accepted by MapieQuantileRegressor. \nGive a base model among: \n``quantile_estimator_params.keys()``Or, add your base model to ``quantile_estimator_params``."
     ]
    }
   ],
   "source": [
    "MapieQuantileRegressor(estimator=model_005, alpha=0.1).fit(X_cal, y_cal)"
   ]
  },
  {
   "cell_type": "code",
   "execution_count": 7,
   "metadata": {},
   "outputs": [],
   "source": [
    "model = CQR_logits(RegFNN(), calib_loader=calib_loader, alpha=0.1)"
   ]
  },
  {
   "cell_type": "code",
   "execution_count": 10,
   "metadata": {},
   "outputs": [
    {
     "data": {
      "text/plain": [
       "\"<class 'src.models.CQR.CQR_logits'>\""
      ]
     },
     "execution_count": 10,
     "metadata": {},
     "output_type": "execute_result"
    }
   ],
   "source": [
    "str(model.__class__)"
   ]
  },
  {
   "cell_type": "code",
   "execution_count": 12,
   "metadata": {},
   "outputs": [
    {
     "data": {
      "text/plain": [
       "True"
      ]
     },
     "execution_count": 12,
     "metadata": {},
     "output_type": "execute_result"
    }
   ],
   "source": [
    "str(model.__class__).startswith(\"<class 'src.models.CQR\")"
   ]
  },
  {
   "cell_type": "code",
   "execution_count": 4,
   "metadata": {},
   "outputs": [],
   "source": [
    "m = GB_quantile_regressor(low=low, up=up, median=median)"
   ]
  },
  {
   "cell_type": "code",
   "execution_count": 45,
   "metadata": {},
   "outputs": [
    {
     "data": {
      "text/plain": [
       "array([[[0.6601436 ],\n",
       "        [0.81229715]],\n",
       "\n",
       "       [[0.97332371],\n",
       "        [1.04386302]],\n",
       "\n",
       "       [[0.65232105],\n",
       "        [0.79945844]],\n",
       "\n",
       "       ...,\n",
       "\n",
       "       [[0.56359683],\n",
       "        [0.6430463 ]],\n",
       "\n",
       "       [[0.59126942],\n",
       "        [0.62283087]],\n",
       "\n",
       "       [[0.64179347],\n",
       "        [0.73259461]]])"
      ]
     },
     "execution_count": 45,
     "metadata": {},
     "output_type": "execute_result"
    }
   ],
   "source": [
    "y_pred_low=low.predict(X_test).reshape(-1, 1)\n",
    "y_pred_up = up.predict(X_test).reshape(-1, 1)\n",
    "np.stack([y_pred_low, y_pred_up], axis=1)"
   ]
  },
  {
   "cell_type": "code",
   "execution_count": 50,
   "metadata": {},
   "outputs": [
    {
     "name": "stderr",
     "output_type": "stream",
     "text": [
      "/Users/abdulrahman/opt/anaconda3/lib/python3.9/site-packages/mapie/utils.py:467: UserWarning: WARNING: The initial prediction values from the quantile method\n",
      "present issues as the upper quantile values might be higher than the\n",
      "lower quantile values.\n",
      "  warnings.warn(\n"
     ]
    }
   ],
   "source": [
    "pred, y_pis = cqr.predict(X_test)\n",
    "# y_pis[:, 0, :], y_pis[:, 1, :]"
   ]
  },
  {
   "cell_type": "code",
   "execution_count": 51,
   "metadata": {},
   "outputs": [
    {
     "data": {
      "text/plain": [
       "array([0.95755559, 1.33461035, 0.79954006, ..., 0.70422397, 0.75772417,\n",
       "       0.89313995])"
      ]
     },
     "execution_count": 51,
     "metadata": {},
     "output_type": "execute_result"
    }
   ],
   "source": [
    "pred"
   ]
  },
  {
   "cell_type": "code",
   "execution_count": 46,
   "metadata": {},
   "outputs": [
    {
     "data": {
      "text/plain": [
       "array([[0.6601436 , 0.81229715, 0.97332371, ..., 0.62283087, 0.64179347,\n",
       "        0.73259461]])"
      ]
     },
     "execution_count": 46,
     "metadata": {},
     "output_type": "execute_result"
    }
   ],
   "source": [
    "pred, ym_pis = m.predict(X_test)\n",
    "ym_pis.reshape(1, -1)\n"
   ]
  },
  {
   "cell_type": "code",
   "execution_count": 47,
   "metadata": {},
   "outputs": [
    {
     "data": {
      "text/plain": [
       "array([0.95755559, 1.33461035, 0.79954006, ..., 0.70422397, 0.75772417,\n",
       "       0.89313995])"
      ]
     },
     "execution_count": 47,
     "metadata": {},
     "output_type": "execute_result"
    }
   ],
   "source": [
    "pred"
   ]
  },
  {
   "cell_type": "code",
   "execution_count": 52,
   "metadata": {},
   "outputs": [
    {
     "data": {
      "text/plain": [
       "tensor([[   3.4833,   15.0000,    5.7462,  ...,    2.5564,   33.1500,\n",
       "         -117.1300],\n",
       "        [   5.5696,   17.0000,    5.9844,  ...,    3.6562,   33.1500,\n",
       "         -117.1400],\n",
       "        [   5.0346,   16.0000,    6.3427,  ...,    4.2584,   33.1500,\n",
       "         -117.1400],\n",
       "        ...,\n",
       "        [   4.1833,   22.0000,    6.5642,  ...,    3.1537,   37.7600,\n",
       "         -121.1100],\n",
       "        [   3.4426,    7.0000,    5.4164,  ...,    3.2852,   37.7300,\n",
       "         -121.1600],\n",
       "        [   3.4009,   22.0000,    6.2148,  ...,    3.3043,   37.7600,\n",
       "         -121.2500]], dtype=torch.float64)"
      ]
     },
     "execution_count": 52,
     "metadata": {},
     "output_type": "execute_result"
    }
   ],
   "source": [
    "calib_loader.dataset.data"
   ]
  },
  {
   "cell_type": "code",
   "execution_count": 2,
   "metadata": {},
   "outputs": [],
   "source": [
    "inputs = torch.tensor([[0.4630, 2.0476],\n",
    "        [2.2505, 3.0956],\n",
    "        [1.1385, 3.4338],\n",
    "        [1.5190, 3.5071],\n",
    "        [2.0850, 2.6518],\n",
    "        [1.4225, 2.4600],\n",
    "        [0.9652, 2.3409],\n",
    "        [1.1852, 4.8402],\n",
    "        [0.8857, 2.5145],\n",
    "        [1.7450, 3.5207],\n",
    "        [1.1903, 2.0947],\n",
    "        [1.1560, 2.0714],\n",
    "        [1.7541, 2.7718],\n",
    "        [1.5430, 2.9079],\n",
    "        [0.7063, 1.6242],\n",
    "        [0.9611, 2.4948],\n",
    "        [1.6540, 2.8775],\n",
    "        [0.9596, 1.6170],\n",
    "        [0.4651, 0.9665],\n",
    "        [1.2414, 1.8720],\n",
    "        [2.4025, 4.9447],\n",
    "        [1.2838, 3.1998],\n",
    "        [0.6027, 1.3405],\n",
    "        [0.9855, 1.7962],\n",
    "        [1.5674, 2.4610],\n",
    "        [0.9095, 1.2087],\n",
    "        [1.9868, 2.4648],\n",
    "        [1.9655, 3.0575],\n",
    "        [2.1278, 2.8847],\n",
    "        [1.9226, 3.1330],\n",
    "        [0.7184, 0.9206],\n",
    "        [2.1120, 3.3875]])\n",
    "targets = torch.tensor([0, 2, 1, 3, 1, 2, 1, 1, 2, 2, 2, 1, 2, 3, 1, 0, 2, 0, 0, 2, 2, 2, 0, 1,\n",
    "        2, 0, 1, 2, 2, 3, 0, 2])"
   ]
  },
  {
   "cell_type": "code",
   "execution_count": 3,
   "metadata": {},
   "outputs": [],
   "source": [
    "model = Conformalized_quantile_regression_logits()"
   ]
  },
  {
   "cell_type": "code",
   "execution_count": 4,
   "metadata": {},
   "outputs": [
    {
     "data": {
      "text/html": [
       "<style>#sk-container-id-1 {color: black;background-color: white;}#sk-container-id-1 pre{padding: 0;}#sk-container-id-1 div.sk-toggleable {background-color: white;}#sk-container-id-1 label.sk-toggleable__label {cursor: pointer;display: block;width: 100%;margin-bottom: 0;padding: 0.3em;box-sizing: border-box;text-align: center;}#sk-container-id-1 label.sk-toggleable__label-arrow:before {content: \"▸\";float: left;margin-right: 0.25em;color: #696969;}#sk-container-id-1 label.sk-toggleable__label-arrow:hover:before {color: black;}#sk-container-id-1 div.sk-estimator:hover label.sk-toggleable__label-arrow:before {color: black;}#sk-container-id-1 div.sk-toggleable__content {max-height: 0;max-width: 0;overflow: hidden;text-align: left;background-color: #f0f8ff;}#sk-container-id-1 div.sk-toggleable__content pre {margin: 0.2em;color: black;border-radius: 0.25em;background-color: #f0f8ff;}#sk-container-id-1 input.sk-toggleable__control:checked~div.sk-toggleable__content {max-height: 200px;max-width: 100%;overflow: auto;}#sk-container-id-1 input.sk-toggleable__control:checked~label.sk-toggleable__label-arrow:before {content: \"▾\";}#sk-container-id-1 div.sk-estimator input.sk-toggleable__control:checked~label.sk-toggleable__label {background-color: #d4ebff;}#sk-container-id-1 div.sk-label input.sk-toggleable__control:checked~label.sk-toggleable__label {background-color: #d4ebff;}#sk-container-id-1 input.sk-hidden--visually {border: 0;clip: rect(1px 1px 1px 1px);clip: rect(1px, 1px, 1px, 1px);height: 1px;margin: -1px;overflow: hidden;padding: 0;position: absolute;width: 1px;}#sk-container-id-1 div.sk-estimator {font-family: monospace;background-color: #f0f8ff;border: 1px dotted black;border-radius: 0.25em;box-sizing: border-box;margin-bottom: 0.5em;}#sk-container-id-1 div.sk-estimator:hover {background-color: #d4ebff;}#sk-container-id-1 div.sk-parallel-item::after {content: \"\";width: 100%;border-bottom: 1px solid gray;flex-grow: 1;}#sk-container-id-1 div.sk-label:hover label.sk-toggleable__label {background-color: #d4ebff;}#sk-container-id-1 div.sk-serial::before {content: \"\";position: absolute;border-left: 1px solid gray;box-sizing: border-box;top: 0;bottom: 0;left: 50%;z-index: 0;}#sk-container-id-1 div.sk-serial {display: flex;flex-direction: column;align-items: center;background-color: white;padding-right: 0.2em;padding-left: 0.2em;position: relative;}#sk-container-id-1 div.sk-item {position: relative;z-index: 1;}#sk-container-id-1 div.sk-parallel {display: flex;align-items: stretch;justify-content: center;background-color: white;position: relative;}#sk-container-id-1 div.sk-item::before, #sk-container-id-1 div.sk-parallel-item::before {content: \"\";position: absolute;border-left: 1px solid gray;box-sizing: border-box;top: 0;bottom: 0;left: 50%;z-index: -1;}#sk-container-id-1 div.sk-parallel-item {display: flex;flex-direction: column;z-index: 1;position: relative;background-color: white;}#sk-container-id-1 div.sk-parallel-item:first-child::after {align-self: flex-end;width: 50%;}#sk-container-id-1 div.sk-parallel-item:last-child::after {align-self: flex-start;width: 50%;}#sk-container-id-1 div.sk-parallel-item:only-child::after {width: 0;}#sk-container-id-1 div.sk-dashed-wrapped {border: 1px dashed gray;margin: 0 0.4em 0.5em 0.4em;box-sizing: border-box;padding-bottom: 0.4em;background-color: white;}#sk-container-id-1 div.sk-label label {font-family: monospace;font-weight: bold;display: inline-block;line-height: 1.2em;}#sk-container-id-1 div.sk-label-container {text-align: center;}#sk-container-id-1 div.sk-container {/* jupyter's `normalize.less` sets `[hidden] { display: none; }` but bootstrap.min.css set `[hidden] { display: none !important; }` so we also need the `!important` here to be able to override the default hidden behavior on the sphinx rendered scikit-learn.org. See: https://github.com/scikit-learn/scikit-learn/issues/21755 */display: inline-block !important;position: relative;}#sk-container-id-1 div.sk-text-repr-fallback {display: none;}</style><div id=\"sk-container-id-1\" class=\"sk-top-container\"><div class=\"sk-text-repr-fallback\"><pre>Conformalized_quantile_regression_logits()</pre><b>In a Jupyter environment, please rerun this cell to show the HTML representation or trust the notebook. <br />On GitHub, the HTML representation is unable to render, please try loading this page with nbviewer.org.</b></div><div class=\"sk-container\" hidden><div class=\"sk-item\"><div class=\"sk-estimator sk-toggleable\"><input class=\"sk-toggleable__control sk-hidden--visually\" id=\"sk-estimator-id-1\" type=\"checkbox\" checked><label for=\"sk-estimator-id-1\" class=\"sk-toggleable__label sk-toggleable__label-arrow\">Conformalized_quantile_regression_logits</label><div class=\"sk-toggleable__content\"><pre>Conformalized_quantile_regression_logits()</pre></div></div></div></div></div>"
      ],
      "text/plain": [
       "Conformalized_quantile_regression_logits()"
      ]
     },
     "execution_count": 4,
     "metadata": {},
     "output_type": "execute_result"
    }
   ],
   "source": [
    "model.fit_precomputed_logits(inputs, targets)"
   ]
  },
  {
   "cell_type": "code",
   "execution_count": 2,
   "metadata": {},
   "outputs": [
    {
     "data": {
      "text/plain": [
       "-0.49809999999999993"
      ]
     },
     "execution_count": 2,
     "metadata": {},
     "output_type": "execute_result"
    }
   ],
   "source": [
    "0.4630 - 0.9611"
   ]
  },
  {
   "cell_type": "code",
   "execution_count": null,
   "metadata": {},
   "outputs": [],
   "source": []
  }
 ],
 "metadata": {
  "interpreter": {
   "hash": "d685bfd7114377445cb2c23cc6bfca7f1f2544957139cb4a27ccab868339e3e1"
  },
  "kernelspec": {
   "display_name": "Python 3.9.7 ('base')",
   "language": "python",
   "name": "python3"
  },
  "language_info": {
   "codemirror_mode": {
    "name": "ipython",
    "version": 3
   },
   "file_extension": ".py",
   "mimetype": "text/x-python",
   "name": "python",
   "nbconvert_exporter": "python",
   "pygments_lexer": "ipython3",
   "version": "3.9.7"
  },
  "orig_nbformat": 4
 },
 "nbformat": 4,
 "nbformat_minor": 2
}
