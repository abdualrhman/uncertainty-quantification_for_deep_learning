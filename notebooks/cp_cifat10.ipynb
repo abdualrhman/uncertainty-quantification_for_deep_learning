{
 "cells": [
  {
   "cell_type": "code",
   "execution_count": 1,
   "metadata": {},
   "outputs": [],
   "source": [
    "import torch\n",
    "from torch import nn\n",
    "from src.data.make_cifar10_dataset import CIFAR10, get_img_transformer\n",
    "from torchvision.utils import make_grid\n",
    "import matplotlib.pyplot as plt\n",
    "import seaborn as sns\n",
    "from src.models.cifar10_conv_model import Cifar10ConvModel\n",
    "from sklearn import metrics\n",
    "import numpy as np\n",
    "import torch.nn.functional as nnf"
   ]
  },
  {
   "cell_type": "code",
   "execution_count": 2,
   "metadata": {},
   "outputs": [
    {
     "name": "stdout",
     "output_type": "stream",
     "text": [
      "Files already downloaded and verified\n",
      "Files already downloaded and verified\n"
     ]
    },
    {
     "data": {
      "text/plain": [
       "<All keys matched successfully>"
      ]
     },
     "execution_count": 2,
     "metadata": {},
     "output_type": "execute_result"
    }
   ],
   "source": [
    "device = \"cuda\" if torch.cuda.is_available() else \"cpu\"\n",
    "test_dataset = CIFAR10(split=\"test\", root='../data/processed', download=True,\n",
    "                      transform=get_img_transformer())\n",
    "test_dataloader = torch.utils.data.DataLoader(\n",
    "        test_dataset, batch_size=128)\n",
    "calib_dataset = CIFAR10(split=\"calib\", root='../data/processed', download=True,\n",
    "                      transform=get_img_transformer())\n",
    "calib_dataloader = torch.utils.data.DataLoader(\n",
    "        calib_dataset, batch_size=128)\n",
    "n_classes = len(set(test_dataset.targets))\n",
    "classes = {index: name for name, index in test_dataset.class_to_idx.items()}\n",
    "model = Cifar10ConvModel()\n",
    "model.load_state_dict(torch.load(\"../models/trained_model.pt\"))"
   ]
  },
  {
   "cell_type": "code",
   "execution_count": 3,
   "metadata": {},
   "outputs": [],
   "source": [
    "def get_dataset_smx_scores(set_type):\n",
    "    data_loader = calib_dataloader if set_type == \"calib\" else test_dataloader\n",
    "    prob_list = []\n",
    "    with torch.no_grad():\n",
    "        model.eval()\n",
    "        for inputs, targets in data_loader:\n",
    "            inputs, targets = inputs.to(device), targets.to(device)\n",
    "            output = model(inputs)\n",
    "            prob = nnf.softmax(output, dim=1)\n",
    "            prob_list.append(prob)\n",
    "        model.train()\n",
    "    return np.concatenate(prob_list, axis=0)"
   ]
  },
  {
   "cell_type": "code",
   "execution_count": 4,
   "metadata": {},
   "outputs": [],
   "source": [
    "def get_adaptive_predition_set(alpha):\n",
    "    cal_smx = get_dataset_smx_scores(\"calib\")\n",
    "    val_smx = get_dataset_smx_scores(\"test\")\n",
    "    n=len(calib_dataset.targets)\n",
    "    # get the index of descending sorted prob \n",
    "    cal_pi = cal_smx.argsort(1)[:,::-1]\n",
    "    # use indices to sort and sum probabilities\n",
    "    cal_srt = np.take_along_axis(cal_smx,cal_pi,axis=1).cumsum(axis=1)\n",
    "    cal_scores = np.take_along_axis(cal_srt,cal_pi.argsort(axis=1),axis=1)[range(n),calib_dataset.targets]\n",
    "    qhat = np.quantile(cal_scores, np.ceil((n+1)*(1-alpha))/n, interpolation='higher')\n",
    "    # Deploy (output=list of length n, each element is tensor of classes)\n",
    "    val_pi = val_smx.argsort(1)[:,::-1]; val_srt = np.take_along_axis(val_smx,val_pi,axis=1).cumsum(axis=1)\n",
    "    prediction_sets = np.take_along_axis(val_srt <= qhat,val_pi.argsort(axis=1),axis=1)\n",
    "    return prediction_sets"
   ]
  },
  {
   "cell_type": "code",
   "execution_count": 5,
   "metadata": {},
   "outputs": [
    {
     "name": "stderr",
     "output_type": "stream",
     "text": [
      "/var/folders/dw/gf2x93p50fdd3796cx4grnqw0000gn/T/ipykernel_42021/4036949097.py:10: DeprecationWarning: the `interpolation=` argument to quantile was renamed to `method=`, which has additional options.\n",
      "Users of the modes 'nearest', 'lower', 'higher', or 'midpoint' are encouraged to review the method they. (Deprecated NumPy 1.22)\n",
      "  qhat = np.quantile(cal_scores, np.ceil((n+1)*(1-alpha))/n, interpolation='higher')\n"
     ]
    }
   ],
   "source": [
    "alpha_list = [0.05, 0.1, 0.15, 0.2]\n",
    "asp_avg_set_size=[]\n",
    "asp_coverage_list = []\n",
    "for alpha in alpha_list:\n",
    "    pred_set_length = []\n",
    "    n_target_in_pred_set = 0\n",
    "    for idx, p_set in enumerate(get_adaptive_predition_set(alpha)):\n",
    "        pred_set_length.append(len(p_set[p_set==True]))\n",
    "        pred_set_classes = np.array(p_set == True).nonzero()[0]\n",
    "        is_target_in_pred_set = test_dataset.targets[idx] in pred_set_classes\n",
    "        if is_target_in_pred_set: \n",
    "            n_target_in_pred_set+=1\n",
    "    asp_avg_set_size.append(np.mean(pred_set_length))\n",
    "    asp_coverage_list.append(n_target_in_pred_set/ len(test_dataset))"
   ]
  },
  {
   "cell_type": "code",
   "execution_count": 12,
   "metadata": {},
   "outputs": [
    {
     "data": {
      "image/png": "[encoded data removed]",
      "text/plain": [
       "<Figure size 504x504 with 2 Axes>"
      ]
     },
     "metadata": {
      "needs_background": "light"
     },
     "output_type": "display_data"
    }
   ],
   "source": [
    "fig, (ax1, ax2) = plt.subplots(2, figsize=(7, 7))\n",
    "fig.suptitle('Coverage and prediction set size plot')\n",
    "ax1.plot(asp_avg_set_size,alpha_list,'o')\n",
    "ax1.set_title(\"Average prediction set size\")\n",
    "\n",
    "ax2.plot(asp_coverage_list,alpha_list,'o')\n",
    "ax2.set_title(\"Coverage\")\n",
    "fig.tight_layout(pad=1.0)\n",
    "plt.show()"
   ]
  },
  {
   "cell_type": "code",
   "execution_count": 7,
   "metadata": {},
   "outputs": [],
   "source": [
    "def get_naive_predition_set(alpha):\n",
    "    cal_smx = get_dataset_smx_scores(\"calib\")\n",
    "    val_smx = get_dataset_smx_scores(\"test\")\n",
    "    n=len(calib_dataset.targets)\n",
    "    cal_scores = 1-cal_smx[np.arange(n),calib_dataset.targets]\n",
    "    q_level = np.ceil((n+1)*(1-alpha))/n\n",
    "    qhat = np.quantile(cal_scores, q_level, method='higher')\n",
    "    prediction_sets = val_smx >= (1-qhat)\n",
    "    return prediction_sets"
   ]
  },
  {
   "cell_type": "code",
   "execution_count": 8,
   "metadata": {},
   "outputs": [],
   "source": [
    "alpha_list = [0.05, 0.1, 0.15, 0.2]\n",
    "naive_avg_set_size=[]\n",
    "naive_coverage_list = []\n",
    "for alpha in alpha_list:\n",
    "    pred_set_length = []\n",
    "    n_target_in_pred_set = 0\n",
    "    for idx, p_set in enumerate(get_naive_predition_set(alpha)):\n",
    "        pred_set_length.append(len(p_set[p_set==True]))\n",
    "        pred_set_classes = np.array(p_set == True).nonzero()[0]\n",
    "        is_target_in_pred_set = test_dataset.targets[idx] in pred_set_classes\n",
    "        if is_target_in_pred_set: \n",
    "            n_target_in_pred_set+=1\n",
    "    naive_avg_set_size.append(np.mean(pred_set_length))\n",
    "    naive_coverage_list.append(n_target_in_pred_set/ len(test_dataset))"
   ]
  },
  {
   "cell_type": "code",
   "execution_count": 9,
   "metadata": {},
   "outputs": [
    {
     "data": {
      "image/png": "[encoded data removed]",
      "text/plain": [
       "<Figure size 504x504 with 2 Axes>"
      ]
     },
     "metadata": {
      "needs_background": "light"
     },
     "output_type": "display_data"
    }
   ],
   "source": [
    "fig, (ax1, ax2) = plt.subplots(2, figsize=(7, 7))\n",
    "fig.suptitle('Coverage and prediction set size plot')\n",
    "ax1.plot(naive_avg_set_size,alpha_list,'o')\n",
    "ax1.set_title(\"Average prediction set size\")\n",
    "\n",
    "ax2.plot(naive_coverage_list,alpha_list,'o')\n",
    "ax2.set_title(\"Coverage\")\n",
    "fig.tight_layout(pad=1.0)\n",
    "plt.show()"
   ]
  },
  {
   "cell_type": "code",
   "execution_count": 10,
   "metadata": {},
   "outputs": [
    {
     "data": {
      "text/plain": [
       "[3.3049, 2.3657, 1.8224, 1.482]"
      ]
     },
     "execution_count": 10,
     "metadata": {},
     "output_type": "execute_result"
    }
   ],
   "source": [
    "naive_avg_set_size"
   ]
  },
  {
   "cell_type": "code",
   "execution_count": 2,
   "metadata": {},
   "outputs": [
    {
     "data": {
      "text/plain": [
       "[('ResNeXt101', 0.05, 'Fixed'),\n",
       " ('ResNeXt101', 0.05, 'Naive'),\n",
       " ('ResNeXt101', 0.05, 'APS'),\n",
       " ('ResNeXt101', 0.05, 'RAPS'),\n",
       " ('ResNeXt101', 0.1, 'Fixed'),\n",
       " ('ResNeXt101', 0.1, 'Naive'),\n",
       " ('ResNeXt101', 0.1, 'APS'),\n",
       " ('ResNeXt101', 0.1, 'RAPS'),\n",
       " ('ResNet152', 0.05, 'Fixed'),\n",
       " ('ResNet152', 0.05, 'Naive'),\n",
       " ('ResNet152', 0.05, 'APS'),\n",
       " ('ResNet152', 0.05, 'RAPS'),\n",
       " ('ResNet152', 0.1, 'Fixed'),\n",
       " ('ResNet152', 0.1, 'Naive'),\n",
       " ('ResNet152', 0.1, 'APS'),\n",
       " ('ResNet152', 0.1, 'RAPS'),\n",
       " ('ResNet101', 0.05, 'Fixed'),\n",
       " ('ResNet101', 0.05, 'Naive'),\n",
       " ('ResNet101', 0.05, 'APS'),\n",
       " ('ResNet101', 0.05, 'RAPS'),\n",
       " ('ResNet101', 0.1, 'Fixed'),\n",
       " ('ResNet101', 0.1, 'Naive'),\n",
       " ('ResNet101', 0.1, 'APS'),\n",
       " ('ResNet101', 0.1, 'RAPS'),\n",
       " ('ResNet50', 0.05, 'Fixed'),\n",
       " ('ResNet50', 0.05, 'Naive'),\n",
       " ('ResNet50', 0.05, 'APS'),\n",
       " ('ResNet50', 0.05, 'RAPS'),\n",
       " ('ResNet50', 0.1, 'Fixed'),\n",
       " ('ResNet50', 0.1, 'Naive'),\n",
       " ('ResNet50', 0.1, 'APS'),\n",
       " ('ResNet50', 0.1, 'RAPS'),\n",
       " ('ResNet18', 0.05, 'Fixed'),\n",
       " ('ResNet18', 0.05, 'Naive'),\n",
       " ('ResNet18', 0.05, 'APS'),\n",
       " ('ResNet18', 0.05, 'RAPS'),\n",
       " ('ResNet18', 0.1, 'Fixed'),\n",
       " ('ResNet18', 0.1, 'Naive'),\n",
       " ('ResNet18', 0.1, 'APS'),\n",
       " ('ResNet18', 0.1, 'RAPS'),\n",
       " ('DenseNet161', 0.05, 'Fixed'),\n",
       " ('DenseNet161', 0.05, 'Naive'),\n",
       " ('DenseNet161', 0.05, 'APS'),\n",
       " ('DenseNet161', 0.05, 'RAPS'),\n",
       " ('DenseNet161', 0.1, 'Fixed'),\n",
       " ('DenseNet161', 0.1, 'Naive'),\n",
       " ('DenseNet161', 0.1, 'APS'),\n",
       " ('DenseNet161', 0.1, 'RAPS'),\n",
       " ('VGG16', 0.05, 'Fixed'),\n",
       " ('VGG16', 0.05, 'Naive'),\n",
       " ('VGG16', 0.05, 'APS'),\n",
       " ('VGG16', 0.05, 'RAPS'),\n",
       " ('VGG16', 0.1, 'Fixed'),\n",
       " ('VGG16', 0.1, 'Naive'),\n",
       " ('VGG16', 0.1, 'APS'),\n",
       " ('VGG16', 0.1, 'RAPS'),\n",
       " ('Inception', 0.05, 'Fixed'),\n",
       " ('Inception', 0.05, 'Naive'),\n",
       " ('Inception', 0.05, 'APS'),\n",
       " ('Inception', 0.05, 'RAPS'),\n",
       " ('Inception', 0.1, 'Fixed'),\n",
       " ('Inception', 0.1, 'Naive'),\n",
       " ('Inception', 0.1, 'APS'),\n",
       " ('Inception', 0.1, 'RAPS'),\n",
       " ('ShuffleNet', 0.05, 'Fixed'),\n",
       " ('ShuffleNet', 0.05, 'Naive'),\n",
       " ('ShuffleNet', 0.05, 'APS'),\n",
       " ('ShuffleNet', 0.05, 'RAPS'),\n",
       " ('ShuffleNet', 0.1, 'Fixed'),\n",
       " ('ShuffleNet', 0.1, 'Naive'),\n",
       " ('ShuffleNet', 0.1, 'APS'),\n",
       " ('ShuffleNet', 0.1, 'RAPS')]"
      ]
     },
     "execution_count": 2,
     "metadata": {},
     "output_type": "execute_result"
    }
   ],
   "source": [
    "import itertools\n",
    "modelnames = ['ResNeXt101','ResNet152','ResNet101','ResNet50','ResNet18','DenseNet161','VGG16','Inception','ShuffleNet']\n",
    "alphas = [0.05, 0.10]\n",
    "predictors = ['Fixed','Naive', 'APS', 'RAPS']\n",
    "params = list(itertools.product(modelnames, alphas, predictors))\n",
    "params"
   ]
  },
  {
   "cell_type": "code",
   "execution_count": null,
   "metadata": {},
   "outputs": [],
   "source": []
  }
 ],
 "metadata": {
  "interpreter": {
   "hash": "d685bfd7114377445cb2c23cc6bfca7f1f2544957139cb4a27ccab868339e3e1"
  },
  "kernelspec": {
   "display_name": "Python 3.9.7 ('base')",
   "language": "python",
   "name": "python3"
  },
  "language_info": {
   "codemirror_mode": {
    "name": "ipython",
    "version": 3
   },
   "file_extension": ".py",
   "mimetype": "text/x-python",
   "name": "python",
   "nbconvert_exporter": "python",
   "pygments_lexer": "ipython3",
   "version": "3.9.7"
  },
  "orig_nbformat": 4
 },
 "nbformat": 4,
 "nbformat_minor": 2
}
