{
 "cells": [
  {
   "cell_type": "code",
   "execution_count": 1,
   "metadata": {},
   "outputs": [
    {
     "name": "stderr",
     "output_type": "stream",
     "text": [
      "/Users/abdulrahman/opt/anaconda3/lib/python3.9/site-packages/torchvision/io/image.py:13: UserWarning: Failed to load image Python extension: 'dlopen(/Users/abdulrahman/opt/anaconda3/lib/python3.9/site-packages/torchvision/image.so, 6): Symbol not found: __ZN3c106detail19maybe_wrap_dim_slowIxEET_S2_S2_b\n",
      "  Referenced from: /Users/abdulrahman/opt/anaconda3/lib/python3.9/site-packages/torchvision/image.so\n",
      "  Expected in: /Users/abdulrahman/opt/anaconda3/lib/python3.9/site-packages/torch/lib/libc10.dylib\n",
      " in /Users/abdulrahman/opt/anaconda3/lib/python3.9/site-packages/torchvision/image.so'If you don't plan on using image functionality from `torchvision.io`, you can ignore this warning. Otherwise, there might be something wrong with your environment. Did you have `libjpeg` or `libpng` installed before building `torchvision` from source?\n",
      "  warn(\n"
     ]
    }
   ],
   "source": [
    "from sklearn.ensemble import GradientBoostingRegressor\n",
    "from sklearn.model_selection import RandomizedSearchCV\n",
    "import numpy as np\n",
    "from src.utils.utils import get_CIFAR10_img_transformer\n",
    "import matplotlib.pyplot as plt\n",
    "import pandas as pd\n",
    "import torch \n",
    "import time\n",
    "from src.data.make_housing_dataset import CaliforniaHousing\n",
    "from torchvision import transforms\n",
    "import torch.nn.functional as F\n",
    "import torchvision\n",
    "import pickle\n",
    "from sklearn import metrics\n",
    "from tqdm import tqdm\n",
    "from src.models.conformal_model import ConformalModel\n",
    "from src.models.quantile_net import QuantileNet \n",
    "# from src.models.GB_quantile_regressor import GB_quantile_regressor, Conformalized_quantile_regression_logits\n",
    "from mapie.quantile_regression import MapieQuantileRegressor\n",
    "from src.models.CQR import CQR\n",
    "from src.models.cifar10_conv_model import Cifar10ConvModel\n",
    "from PIL import Image\n",
    "from torch.utils.data import Dataset\n",
    "from torchvision.datasets.vision import VisionDataset\n",
    "import torch.optim as optim\n",
    "from typing import Any, Callable, Optional, Tuple\n",
    "from numpy import random\n",
    "from torch import nn\n",
    "from src.models.oracle import Oracle\n",
    "import itertools\n",
    "from torch.utils.data import Dataset, Subset\n",
    "from time import sleep\n",
    "from pytorch_forecasting import Baseline, TemporalFusionTransformer, TimeSeriesDataSet\n",
    "\n"
   ]
  },
  {
   "cell_type": "code",
   "execution_count": 3,
   "metadata": {},
   "outputs": [
    {
     "name": "stdout",
     "output_type": "stream",
     "text": [
      "Loaded from pre-processed files\n",
      "Loaded from pre-processed files\n"
     ]
    }
   ],
   "source": [
    "train_set = CaliforniaHousing(split='train', in_folder='../data/raw', out_folder='../data/processed')\n",
    "test_set = CaliforniaHousing(split='test', in_folder='../data/raw', out_folder='../data/processed')"
   ]
  },
  {
   "cell_type": "code",
   "execution_count": null,
   "metadata": {},
   "outputs": [],
   "source": [
    "model = "
   ]
  }
 ],
 "metadata": {
  "interpreter": {
   "hash": "d685bfd7114377445cb2c23cc6bfca7f1f2544957139cb4a27ccab868339e3e1"
  },
  "kernelspec": {
   "display_name": "Python 3.9.7 ('base')",
   "language": "python",
   "name": "python3"
  },
  "language_info": {
   "codemirror_mode": {
    "name": "ipython",
    "version": 3
   },
   "file_extension": ".py",
   "mimetype": "text/x-python",
   "name": "python",
   "nbconvert_exporter": "python",
   "pygments_lexer": "ipython3",
   "version": "3.9.7"
  },
  "orig_nbformat": 4
 },
 "nbformat": 4,
 "nbformat_minor": 2
}
