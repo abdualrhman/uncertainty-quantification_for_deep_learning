{
 "cells": [
  {
   "cell_type": "code",
   "execution_count": 39,
   "metadata": {},
   "outputs": [],
   "source": [
    "from catboost import CatBoostRegressor\n",
    "from scipy.stats import randint, uniform\n",
    "import matplotlib.pyplot as plt\n",
    "import pandas as pd\n",
    "import numpy as np"
   ]
  },
  {
   "cell_type": "code",
   "execution_count": 61,
   "metadata": {},
   "outputs": [
    {
     "name": "stdout",
     "output_type": "stream",
     "text": [
      "Loaded from pre-processed files\n",
      "Loaded from pre-processed files\n"
     ]
    }
   ],
   "source": [
    "from src.data.make_wine_quality_dataset import WineQuality\n",
    "\n",
    "test_set = WineQuality(train=False, in_folder='../data/raw', out_folder='../data/processed')\n",
    "train_set = WineQuality(train=True, in_folder='../data/raw', out_folder='../data/processed')"
   ]
  },
  {
   "cell_type": "code",
   "execution_count": 68,
   "metadata": {},
   "outputs": [
    {
     "data": {
      "text/plain": [
       "400"
      ]
     },
     "execution_count": 68,
     "metadata": {},
     "output_type": "execute_result"
    }
   ],
   "source": [
    "\n",
    "len(test_set)"
   ]
  },
  {
   "cell_type": "code",
   "execution_count": 87,
   "metadata": {},
   "outputs": [
    {
     "data": {
      "text/html": [
       "<div>\n",
       "<style scoped>\n",
       "    .dataframe tbody tr th:only-of-type {\n",
       "        vertical-align: middle;\n",
       "    }\n",
       "\n",
       "    .dataframe tbody tr th {\n",
       "        vertical-align: top;\n",
       "    }\n",
       "\n",
       "    .dataframe thead th {\n",
       "        text-align: right;\n",
       "    }\n",
       "</style>\n",
       "<table border=\"1\" class=\"dataframe\">\n",
       "  <thead>\n",
       "    <tr style=\"text-align: right;\">\n",
       "      <th></th>\n",
       "      <th>Unnamed: 0</th>\n",
       "      <th>Model</th>\n",
       "      <th>Predictor</th>\n",
       "      <th>Length</th>\n",
       "      <th>alpha</th>\n",
       "      <th>Coverage</th>\n",
       "    </tr>\n",
       "  </thead>\n",
       "  <tbody>\n",
       "    <tr>\n",
       "      <th>1</th>\n",
       "      <td>1</td>\n",
       "      <td>CatBoostRegressor</td>\n",
       "      <td>CQR</td>\n",
       "      <td>2.648</td>\n",
       "      <td>0.05</td>\n",
       "      <td>0.953</td>\n",
       "    </tr>\n",
       "    <tr>\n",
       "      <th>3</th>\n",
       "      <td>3</td>\n",
       "      <td>CatBoostRegressor</td>\n",
       "      <td>CQR</td>\n",
       "      <td>2.004</td>\n",
       "      <td>0.10</td>\n",
       "      <td>0.897</td>\n",
       "    </tr>\n",
       "    <tr>\n",
       "      <th>5</th>\n",
       "      <td>5</td>\n",
       "      <td>CatBoostRegressor</td>\n",
       "      <td>CQR</td>\n",
       "      <td>1.531</td>\n",
       "      <td>0.20</td>\n",
       "      <td>0.803</td>\n",
       "    </tr>\n",
       "    <tr>\n",
       "      <th>7</th>\n",
       "      <td>7</td>\n",
       "      <td>RegFFN</td>\n",
       "      <td>CQR</td>\n",
       "      <td>3.275</td>\n",
       "      <td>0.05</td>\n",
       "      <td>0.963</td>\n",
       "    </tr>\n",
       "    <tr>\n",
       "      <th>9</th>\n",
       "      <td>9</td>\n",
       "      <td>RegFFN</td>\n",
       "      <td>CQR</td>\n",
       "      <td>2.862</td>\n",
       "      <td>0.10</td>\n",
       "      <td>0.910</td>\n",
       "    </tr>\n",
       "    <tr>\n",
       "      <th>11</th>\n",
       "      <td>11</td>\n",
       "      <td>RegFFN</td>\n",
       "      <td>CQR</td>\n",
       "      <td>2.002</td>\n",
       "      <td>0.20</td>\n",
       "      <td>0.813</td>\n",
       "    </tr>\n",
       "    <tr>\n",
       "      <th>13</th>\n",
       "      <td>13</td>\n",
       "      <td>GBQuantileReg</td>\n",
       "      <td>CQR</td>\n",
       "      <td>4.096</td>\n",
       "      <td>0.05</td>\n",
       "      <td>0.983</td>\n",
       "    </tr>\n",
       "    <tr>\n",
       "      <th>15</th>\n",
       "      <td>15</td>\n",
       "      <td>GBQuantileReg</td>\n",
       "      <td>CQR</td>\n",
       "      <td>2.121</td>\n",
       "      <td>0.10</td>\n",
       "      <td>0.907</td>\n",
       "    </tr>\n",
       "    <tr>\n",
       "      <th>17</th>\n",
       "      <td>17</td>\n",
       "      <td>GBQuantileReg</td>\n",
       "      <td>CQR</td>\n",
       "      <td>2.107</td>\n",
       "      <td>0.20</td>\n",
       "      <td>0.907</td>\n",
       "    </tr>\n",
       "  </tbody>\n",
       "</table>\n",
       "</div>"
      ],
      "text/plain": [
       "    Unnamed: 0              Model Predictor  Length  alpha  Coverage\n",
       "1            1  CatBoostRegressor       CQR   2.648   0.05     0.953\n",
       "3            3  CatBoostRegressor       CQR   2.004   0.10     0.897\n",
       "5            5  CatBoostRegressor       CQR   1.531   0.20     0.803\n",
       "7            7             RegFFN       CQR   3.275   0.05     0.963\n",
       "9            9             RegFFN       CQR   2.862   0.10     0.910\n",
       "11          11             RegFFN       CQR   2.002   0.20     0.813\n",
       "13          13      GBQuantileReg       CQR   4.096   0.05     0.983\n",
       "15          15      GBQuantileReg       CQR   2.121   0.10     0.907\n",
       "17          17      GBQuantileReg       CQR   2.107   0.20     0.907"
      ]
     },
     "execution_count": 87,
     "metadata": {},
     "output_type": "execute_result"
    }
   ],
   "source": [
    "df=pd.read_csv('../.cache/conformal_regression_wine_quality.csv')\n",
    "df = df[df.Predictor=='CQR']\n",
    "df"
   ]
  },
  {
   "cell_type": "code",
   "execution_count": 107,
   "metadata": {},
   "outputs": [
    {
     "name": "stdout",
     "output_type": "stream",
     "text": [
      "Pandas(Index=1, _1=1, Model='CatBoostRegressor', Predictor='CQR', Length=2.648, alpha=0.05, Coverage=0.953)\n",
      "Pandas(Index=3, _1=3, Model='CatBoostRegressor', Predictor='CQR', Length=2.004, alpha=0.1, Coverage=0.897)\n",
      "Pandas(Index=5, _1=5, Model='CatBoostRegressor', Predictor='CQR', Length=1.531, alpha=0.2, Coverage=0.803)\n",
      "Pandas(Index=7, _1=7, Model='RegFFN', Predictor='CQR', Length=3.275, alpha=0.05, Coverage=0.963)\n",
      "Pandas(Index=9, _1=9, Model='RegFFN', Predictor='CQR', Length=2.862, alpha=0.1, Coverage=0.91)\n",
      "Pandas(Index=11, _1=11, Model='RegFFN', Predictor='CQR', Length=2.002, alpha=0.2, Coverage=0.813)\n",
      "Pandas(Index=13, _1=13, Model='GBQuantileReg', Predictor='CQR', Length=4.096, alpha=0.05, Coverage=0.983)\n",
      "Pandas(Index=15, _1=15, Model='GBQuantileReg', Predictor='CQR', Length=2.121, alpha=0.1, Coverage=0.907)\n",
      "Pandas(Index=17, _1=17, Model='GBQuantileReg', Predictor='CQR', Length=2.107, alpha=0.2, Coverage=0.907)\n"
     ]
    }
   ],
   "source": [
    "for model in df.Model.unique():\n",
    "    new_df =df[df.Model==model]\n",
    "    for t in new_df.itertuples():\n",
    "        print(t)"
   ]
  },
  {
   "cell_type": "code",
   "execution_count": 104,
   "metadata": {},
   "outputs": [],
   "source": [
    "def make_table(df):\n",
    "    def round_to_n(x, n): return np.round(\n",
    "        x, -int(np.floor(np.log10(x))) + (n - 1))  # Rounds to sig figs\n",
    "    table = \"\"\n",
    "    table += \"\\\\begin{table}[t] \\n\"\n",
    "    table += \"\\\\centering \\n\"\n",
    "    table += \"\\\\small \\n\"\n",
    "    table += \"\\\\begin{tabular}{lccccccccccc} \\n\"\n",
    "    table += \"\\\\toprule \\n\"\n",
    "    table += \"Model & Avg. length & Coverage & $\\\\alpha$ \\\\\\\\ \\n\"\n",
    "    table += \"\\\\midrule \\n\"\n",
    "    for model in df.Model.unique():\n",
    "        model_df =df[df.Model==model]\n",
    "        for row in model_df.itertuples():\n",
    "            table += f\" {row.Predictor} {row.Model} & \"\n",
    "            table += f\"{round_to_n(row.Length,3 )} & \"\n",
    "            table += f\"{round_to_n(row.Coverage, 3)} & \"\n",
    "            table += f\"{row.alpha} \" + \" \\\\\\\\ \\n\"\n",
    "    table += \"\\\\bottomrule \\n\"\n",
    "    table += \"\\\\end{tabular} \\n\"\n",
    "    table += \"\\\\end{table} \\n\"\n",
    "    return table"
   ]
  },
  {
   "cell_type": "code",
   "execution_count": 32,
   "metadata": {},
   "outputs": [
    {
     "data": {
      "text/html": [
       "<div>\n",
       "<style scoped>\n",
       "    .dataframe tbody tr th:only-of-type {\n",
       "        vertical-align: middle;\n",
       "    }\n",
       "\n",
       "    .dataframe tbody tr th {\n",
       "        vertical-align: top;\n",
       "    }\n",
       "\n",
       "    .dataframe thead th {\n",
       "        text-align: right;\n",
       "    }\n",
       "</style>\n",
       "<table border=\"1\" class=\"dataframe\">\n",
       "  <thead>\n",
       "    <tr style=\"text-align: right;\">\n",
       "      <th></th>\n",
       "      <th>Unnamed: 0</th>\n",
       "      <th>Model</th>\n",
       "      <th>Predictor</th>\n",
       "      <th>Length</th>\n",
       "      <th>alpha</th>\n",
       "      <th>Coverage</th>\n",
       "    </tr>\n",
       "  </thead>\n",
       "  <tbody>\n",
       "    <tr>\n",
       "      <th>0</th>\n",
       "      <td>0</td>\n",
       "      <td>RegFFN</td>\n",
       "      <td>QR</td>\n",
       "      <td>2.230</td>\n",
       "      <td>0.05</td>\n",
       "      <td>0.714</td>\n",
       "    </tr>\n",
       "    <tr>\n",
       "      <th>1</th>\n",
       "      <td>1</td>\n",
       "      <td>RegFFN</td>\n",
       "      <td>CQR</td>\n",
       "      <td>3.792</td>\n",
       "      <td>0.05</td>\n",
       "      <td>0.952</td>\n",
       "    </tr>\n",
       "    <tr>\n",
       "      <th>2</th>\n",
       "      <td>2</td>\n",
       "      <td>RegFFN</td>\n",
       "      <td>QR</td>\n",
       "      <td>2.229</td>\n",
       "      <td>0.10</td>\n",
       "      <td>0.715</td>\n",
       "    </tr>\n",
       "    <tr>\n",
       "      <th>3</th>\n",
       "      <td>3</td>\n",
       "      <td>RegFFN</td>\n",
       "      <td>CQR</td>\n",
       "      <td>3.521</td>\n",
       "      <td>0.10</td>\n",
       "      <td>0.900</td>\n",
       "    </tr>\n",
       "    <tr>\n",
       "      <th>4</th>\n",
       "      <td>4</td>\n",
       "      <td>RegFFN</td>\n",
       "      <td>QR</td>\n",
       "      <td>2.230</td>\n",
       "      <td>0.20</td>\n",
       "      <td>0.714</td>\n",
       "    </tr>\n",
       "    <tr>\n",
       "      <th>5</th>\n",
       "      <td>5</td>\n",
       "      <td>RegFFN</td>\n",
       "      <td>CQR</td>\n",
       "      <td>2.931</td>\n",
       "      <td>0.20</td>\n",
       "      <td>0.802</td>\n",
       "    </tr>\n",
       "    <tr>\n",
       "      <th>6</th>\n",
       "      <td>6</td>\n",
       "      <td>GBQuantileReg</td>\n",
       "      <td>QR</td>\n",
       "      <td>1.090</td>\n",
       "      <td>0.05</td>\n",
       "      <td>0.431</td>\n",
       "    </tr>\n",
       "    <tr>\n",
       "      <th>7</th>\n",
       "      <td>7</td>\n",
       "      <td>GBQuantileReg</td>\n",
       "      <td>CQR</td>\n",
       "      <td>3.007</td>\n",
       "      <td>0.05</td>\n",
       "      <td>0.950</td>\n",
       "    </tr>\n",
       "    <tr>\n",
       "      <th>8</th>\n",
       "      <td>8</td>\n",
       "      <td>GBQuantileReg</td>\n",
       "      <td>QR</td>\n",
       "      <td>1.090</td>\n",
       "      <td>0.10</td>\n",
       "      <td>0.431</td>\n",
       "    </tr>\n",
       "    <tr>\n",
       "      <th>9</th>\n",
       "      <td>9</td>\n",
       "      <td>GBQuantileReg</td>\n",
       "      <td>CQR</td>\n",
       "      <td>2.649</td>\n",
       "      <td>0.10</td>\n",
       "      <td>0.898</td>\n",
       "    </tr>\n",
       "    <tr>\n",
       "      <th>10</th>\n",
       "      <td>10</td>\n",
       "      <td>GBQuantileReg</td>\n",
       "      <td>QR</td>\n",
       "      <td>1.089</td>\n",
       "      <td>0.20</td>\n",
       "      <td>0.431</td>\n",
       "    </tr>\n",
       "    <tr>\n",
       "      <th>11</th>\n",
       "      <td>11</td>\n",
       "      <td>GBQuantileReg</td>\n",
       "      <td>CQR</td>\n",
       "      <td>2.283</td>\n",
       "      <td>0.20</td>\n",
       "      <td>0.800</td>\n",
       "    </tr>\n",
       "  </tbody>\n",
       "</table>\n",
       "</div>"
      ],
      "text/plain": [
       "    Unnamed: 0          Model Predictor  Length  alpha  Coverage\n",
       "0            0         RegFFN        QR   2.230   0.05     0.714\n",
       "1            1         RegFFN       CQR   3.792   0.05     0.952\n",
       "2            2         RegFFN        QR   2.229   0.10     0.715\n",
       "3            3         RegFFN       CQR   3.521   0.10     0.900\n",
       "4            4         RegFFN        QR   2.230   0.20     0.714\n",
       "5            5         RegFFN       CQR   2.931   0.20     0.802\n",
       "6            6  GBQuantileReg        QR   1.090   0.05     0.431\n",
       "7            7  GBQuantileReg       CQR   3.007   0.05     0.950\n",
       "8            8  GBQuantileReg        QR   1.090   0.10     0.431\n",
       "9            9  GBQuantileReg       CQR   2.649   0.10     0.898\n",
       "10          10  GBQuantileReg        QR   1.089   0.20     0.431\n",
       "11          11  GBQuantileReg       CQR   2.283   0.20     0.800"
      ]
     },
     "execution_count": 32,
     "metadata": {},
     "output_type": "execute_result"
    }
   ],
   "source": [
    "def make_table(df):\n",
    "    def round_to_n(x, n): return np.round(\n",
    "        x, -int(np.floor(np.log10(x))) + (n - 1))  # Rounds to sig figs\n",
    "    table = \"\"\n",
    "    table += \"\\\\begin{table}[t] \\n\"\n",
    "    table += \"\\\\centering \\n\"\n",
    "    table += \"\\\\small \\n\"\n",
    "    table += \"\\\\begin{tabular}{lccccccccccc} \\n\"\n",
    "    table += \"\\\\toprule \\n\"\n",
    "    table += \"Model & Avg. length & Coverage & $\\\\alpha$ \\\\\\\\ \\n\"\n",
    "    table += \"\\\\midrule \\n\"\n",
    "    for row in df.itertuples():\n",
    "        table += f\" {row.Predictor} {row.Model} & \"\n",
    "        table += f\"{round_to_n(row.Length,3 )} & \"\n",
    "        table += f\"{round_to_n(row.Coverage, 3)} & \"\n",
    "        table += f\"{row.alpha} \" + \" \\\\\\\\ \\n\"\n",
    "    table += \"\\\\bottomrule \\n\"\n",
    "    table += \"\\\\end{tabular} \\n\"\n",
    "    table += \"\\\\end{table} \\n\"\n",
    "    return table"
   ]
  },
  {
   "cell_type": "code",
   "execution_count": 36,
   "metadata": {},
   "outputs": [
    {
     "name": "stdout",
     "output_type": "stream",
     "text": [
      "2.23\n",
      "3.792\n",
      "2.229\n",
      "3.521\n",
      "2.23\n",
      "2.931\n",
      "1.09\n",
      "3.007\n",
      "1.09\n",
      "2.649\n",
      "1.089\n",
      "2.283\n"
     ]
    }
   ],
   "source": [
    "for t in df.itertuples():\n",
    "    print(t.Length)"
   ]
  },
  {
   "cell_type": "code",
   "execution_count": 54,
   "metadata": {},
   "outputs": [],
   "source": [
    "def make_table(df):\n",
    "    def round_to_n(x, n): return np.round(\n",
    "        x, -int(np.floor(np.log10(x))) + (n - 1))  # Rounds to sig figs\n",
    "    table = \"\"\n",
    "    table += \"\\\\begin{table}[t] \\n\"\n",
    "    table += \"\\\\centering \\n\"\n",
    "    table += \"\\\\small \\n\"\n",
    "    table += \"\\\\begin{tabular}{lccccccccccc} \\n\"\n",
    "    table += \"\\\\toprule \\n\"\n",
    "    # table += \" & \\multicolumn{2}{c}{Length}  & \\multicolumn{2}{c}{Coverage}  \\\\\\\\ \\n\"\n",
    "    # table += \"\\cmidrule(r){2-3}  \\cmidrule(r){4-5} \\n\"\n",
    "    table += \"Model & Avg. length & Coverage & $\\\\alpha$ \\\\\\\\ \\n\"\n",
    "    table += \"\\\\midrule \\n\"\n",
    "    for row in df.itertuples():\n",
    "        table += f\" {row.Predictor} {row.Model} & \"\n",
    "        table += f\"{round_to_n(row.Length,3 )} & \"\n",
    "        table += f\"{round_to_n(row.Coverage, 3)} & \" \n",
    "        table += f\"{row.alpha} \" +  \" \\\\\\\\ \\n\"\n",
    "    table += \"\\\\bottomrule \\n\"\n",
    "    table += \"\\\\end{tabular} \\n\"\n",
    "    table += \"\\\\caption{\\\\textbf{Results on California Housing Testset.} We report the prediction interval length and the coverage fot $\\\\alpha= \\in \\{ 0.05, 0.1, 0.2\\}$ for the conformalized models} \\n\"\n",
    "    table += \"\\\\label{table:California_test} \\n\"\n",
    "    table += \"\\\\end{table} \\n\"\n",
    "    return table"
   ]
  },
  {
   "cell_type": "code",
   "execution_count": 106,
   "metadata": {},
   "outputs": [
    {
     "data": {
      "text/plain": [
       "'\\\\begin{table}[t] \\n\\\\centering \\n\\\\small \\n\\\\begin{tabular}{lccccccccccc} \\n\\\\toprule \\nModel & Avg. length & Coverage & $\\\\alpha$ \\\\\\\\ \\n\\\\midrule \\n CQR CatBoostRegressor & 2.65 & 0.953 & 0.05  \\\\\\\\ \\n CQR CatBoostRegressor & 2.0 & 0.897 & 0.1  \\\\\\\\ \\n CQR CatBoostRegressor & 1.53 & 0.803 & 0.2  \\\\\\\\ \\n CQR RegFFN & 3.28 & 0.963 & 0.05  \\\\\\\\ \\n CQR RegFFN & 2.86 & 0.91 & 0.1  \\\\\\\\ \\n CQR RegFFN & 2.0 & 0.813 & 0.2  \\\\\\\\ \\n CQR GBQuantileReg & 4.1 & 0.983 & 0.05  \\\\\\\\ \\n CQR GBQuantileReg & 2.12 & 0.907 & 0.1  \\\\\\\\ \\n CQR GBQuantileReg & 2.11 & 0.907 & 0.2  \\\\\\\\ \\n\\\\bottomrule \\n\\\\end{tabular} \\n\\\\end{table} \\n'"
      ]
     },
     "execution_count": 106,
     "metadata": {},
     "output_type": "execute_result"
    }
   ],
   "source": [
    "\n",
    "table = open(\n",
    "    f\"test\".replace('.', '_') + \".tex\", 'w')\n",
    "table.write(make_table(df))\n",
    "table.close()\n",
    "make_table(df)"
   ]
  },
  {
   "cell_type": "code",
   "execution_count": 112,
   "metadata": {},
   "outputs": [],
   "source": [
    "def get_model_alpha(modelname):\n",
    "    return float(modelname.split(\":\")[-1])"
   ]
  },
  {
   "cell_type": "code",
   "execution_count": 116,
   "metadata": {},
   "outputs": [
    {
     "data": {
      "text/plain": [
       "0.2"
      ]
     },
     "execution_count": 116,
     "metadata": {},
     "output_type": "execute_result"
    }
   ],
   "source": [
    "modelname=\"GradientBoostingRegressor:0.2\"\n",
    "get_model_alpha(modelname)"
   ]
  },
  {
   "cell_type": "code",
   "execution_count": null,
   "metadata": {},
   "outputs": [],
   "source": []
  }
 ],
 "metadata": {
  "kernelspec": {
   "display_name": "Python 3",
   "language": "python",
   "name": "python3"
  },
  "language_info": {
   "codemirror_mode": {
    "name": "ipython",
    "version": 3
   },
   "file_extension": ".py",
   "mimetype": "text/x-python",
   "name": "python",
   "nbconvert_exporter": "python",
   "pygments_lexer": "ipython3",
   "version": "3.9.7"
  }
 },
 "nbformat": 4,
 "nbformat_minor": 2
}
